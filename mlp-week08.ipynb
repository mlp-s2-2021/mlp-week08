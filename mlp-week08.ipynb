{
  "cells": [
    {
      "cell_type": "markdown",
      "source": "# Machine Learning in Python - Workshop 8",
      "metadata": {
        "cell_id": "00000-add60202-0648-4fd8-ba12-1be2678bf566",
        "deepnote_cell_type": "markdown"
      }
    },
    {
      "cell_type": "markdown",
      "source": "# 1. Setup\n\n\n## 1.1 Packages\n",
      "metadata": {
        "cell_id": "00001-a528e3ff-3193-4529-a43f-5a4d88295c14",
        "deepnote_cell_type": "markdown"
      }
    },
    {
      "cell_type": "markdown",
      "source": "In the cell below we will load the core libraries we will be using for this workshop and setting some sensible defaults for our plot size and resolution. ",
      "metadata": {
        "cell_id": "00002-6eb636d3-e3ce-42ea-8a2d-01b0ca444fd4",
        "deepnote_cell_type": "markdown"
      }
    },
    {
      "cell_type": "code",
      "metadata": {
        "cell_id": "00003-ae83b18e-b81c-4e76-90af-7130e46aee82",
        "deepnote_to_be_reexecuted": false,
        "source_hash": "f417e421",
        "execution_start": 1615374513986,
        "execution_millis": 6857,
        "output_cleared": true,
        "deepnote_cell_type": "code"
      },
      "source": "# Display plots inline\n%matplotlib inline  \n\n# Data libraries\nimport pandas as pd\nimport numpy as np\n\n# Plotting libraries\nimport matplotlib.pyplot as plt\nimport seaborn as sns\nfrom mpl_toolkits.mplot3d import Axes3D\n\n# Plotting defaults\nplt.rcParams['figure.figsize'] = (8,8)\nplt.rcParams['figure.dpi'] = 80\nplt.rcParams['lines.markersize'] = 7.5\n\n# sklearn modules\nimport sklearn\nfrom sklearn.metrics import confusion_matrix\nfrom sklearn.pipeline import make_pipeline\nfrom sklearn.model_selection import GridSearchCV, KFold",
      "execution_count": null,
      "outputs": []
    },
    {
      "cell_type": "markdown",
      "source": "## 1.2 Helper Functions\n\n",
      "metadata": {
        "cell_id": "00004-a0e31a15-012c-4de7-a2be-cf549a218b9d",
        "deepnote_cell_type": "markdown"
      }
    },
    {
      "cell_type": "code",
      "metadata": {
        "cell_id": "00005-00c8912b-fbe7-4521-a98c-2f4df0fc6039",
        "deepnote_to_be_reexecuted": false,
        "source_hash": "6ac74a58",
        "execution_start": 1615374520848,
        "execution_millis": 15,
        "output_cleared": true,
        "deepnote_cell_type": "code"
      },
      "source": "def plot_margin(model, data, x='x', y='y', cat='z', show_support_vectors = True, nx=50, ny=50):\n    # Plot the data\n    p = sns.scatterplot(x=x, y=y, hue=cat, data=data, legend=False)\n    \n    # Find the extent of x and y\n    xlim = p.get_xlim()\n    ylim = p.get_ylim()\n    \n    # Create a grid of points\n    xx = np.linspace(xlim[0], xlim[1], nx)\n    yy = np.linspace(ylim[0], ylim[1], ny)\n    YY, XX = np.meshgrid(yy, xx)\n    \n    # Calculate the label for each point in the grid\n    xy = np.c_[XX.ravel(), YY.ravel()]\n    Z = model.decision_function(xy).reshape(XX.shape)\n    \n    # plot contours of decision boundary and margins\n    p.contour(XX, YY, Z, colors='k', \n              levels=[-1, 0, 1], alpha=0.5,\n              linestyles=['--', '-', '--'])\n\n    # highlight support vectors\n    if (show_support_vectors):\n        p.scatter(model.support_vectors_[:, 0], \n                  model.support_vectors_[:, 1], s=100,\n                  linewidth=1, facecolors='none', edgecolors='k')\n\n    # Show confusion table in the title\n    p.set_title(\n        \"TN: {0}, FP: {1}, FN: {2}, TP: {3}\".format(\n            *confusion_matrix(\n                data[cat],\n                m.predict(data.drop(cat, axis=1))\n            ).flatten()\n        )\n    )\n    \n    plt.show()",
      "execution_count": null,
      "outputs": []
    },
    {
      "cell_type": "markdown",
      "source": "## 1.3 Jupyter Advice\n\nSome of the interactive plots below are large enough that Jupyter will attempt to add a scrollbar which will prevent you from seeing all the options and the plot at the same time. To avoid this you can select Cell -> Current Outputs -> Toggle Scrolling from the Jupyter menu above to remove this scrolling.",
      "metadata": {
        "cell_id": "00006-dc0fab60-63d9-4b75-a7f6-c9695239d2d7",
        "deepnote_cell_type": "markdown"
      }
    },
    {
      "cell_type": "markdown",
      "source": "--- \n\n# 2. Support Vector Machine\n\nIn this section we will be exploring the basics of support vector machine models. SVMs have their own entire submodule of sklearn which includes more than we will be able to cover in this workshop. We will be focusing on the most straight forward case, which is a support vector machine classifier which is provide by sklearn as the `SVC` model.",
      "metadata": {
        "cell_id": "00007-03428345-eb63-4b5c-a07c-9afb4d4c983d",
        "deepnote_cell_type": "markdown"
      }
    },
    {
      "cell_type": "code",
      "metadata": {
        "cell_id": "00008-0df79675-cc5a-449d-b988-1ce0922bacfc",
        "deepnote_to_be_reexecuted": false,
        "source_hash": "609127a2",
        "execution_start": 1615374520868,
        "execution_millis": 111,
        "output_cleared": true,
        "deepnote_cell_type": "code"
      },
      "source": "from sklearn.svm import SVC",
      "execution_count": null,
      "outputs": []
    },
    {
      "cell_type": "markdown",
      "source": "---\n\n## 2.1 Example 1 - Separable data",
      "metadata": {
        "cell_id": "00009-c8fcc1cd-f695-40a3-999e-6473e09ba604",
        "deepnote_cell_type": "markdown"
      }
    },
    {
      "cell_type": "markdown",
      "source": "We will begin by examining several toy data problems to explore the basics of these models. To begin we will read in data for the first example from `ex1.csv`.",
      "metadata": {
        "cell_id": "00010-382493e4-c0be-4927-9818-5c44c17e41ca",
        "deepnote_cell_type": "markdown"
      }
    },
    {
      "cell_type": "code",
      "metadata": {
        "cell_id": "00011-af2e778f-ae25-4ee0-a17b-fa3a0cc4bf3e",
        "deepnote_to_be_reexecuted": false,
        "source_hash": "ca82d11b",
        "execution_start": 1615374520983,
        "execution_millis": 12,
        "output_cleared": true,
        "deepnote_cell_type": "code"
      },
      "source": "ex1 = pd.read_csv(\"ex1.csv\")",
      "execution_count": null,
      "outputs": []
    },
    {
      "cell_type": "markdown",
      "source": "We can see the that data is composed of two classes in two dimensions, and it is clear that these two classes are perfectly linearly separable - i.e. we can draw a straight line that divides the classes.",
      "metadata": {
        "cell_id": "00012-0bacb3a6-7f10-4578-acf1-6039d2d77d21",
        "deepnote_cell_type": "markdown"
      }
    },
    {
      "cell_type": "code",
      "metadata": {
        "cell_id": "00013-fdbc2ab2-5db8-4766-b25f-5d7d9a01d0a8",
        "deepnote_to_be_reexecuted": false,
        "source_hash": "c77bc8e2",
        "execution_start": 1615374521002,
        "execution_millis": 362,
        "output_cleared": true,
        "deepnote_cell_type": "code"
      },
      "source": "sns.scatterplot(x='x', y='y', hue='z', data=ex1, legend=False)\nplt.show()",
      "execution_count": null,
      "outputs": []
    },
    {
      "cell_type": "markdown",
      "source": "With a linear SVM model our goal is to identify the line (or a separating hyperplane in higher dimensions) with the largest possible margin. Like the other models we've already seen, we fit the SVM by constructing our feature matrix and outcome vector and then calling the `fit` method for our model object.",
      "metadata": {
        "cell_id": "00014-c0429657-10f5-4c2a-b4a6-fbbd356f7e41",
        "deepnote_cell_type": "markdown"
      }
    },
    {
      "cell_type": "code",
      "metadata": {
        "cell_id": "00015-d7fc13a9-1316-474a-aba4-2cddbc0f360d",
        "deepnote_to_be_reexecuted": false,
        "source_hash": "497ea327",
        "execution_start": 1615374521292,
        "execution_millis": 8,
        "output_cleared": true,
        "deepnote_cell_type": "code"
      },
      "source": "X_ex1 = ex1.drop('z', axis=1)\ny_ex1 = ex1.z",
      "execution_count": null,
      "outputs": []
    },
    {
      "cell_type": "markdown",
      "source": "When fitting the model we will only worry about two parameters for now: `kernel` which determines what if any kernel is used when calculating the dot product, and `C` which is the penalty for misclassification. These parameters default to `kernel='rbf'` for a radial basis function and `C=1`, we will change these to a `linear` kernel and a arbitrary large penalty respectively.",
      "metadata": {
        "cell_id": "00016-7f3300bd-eaaa-4ee0-8ff2-1b39b559f452",
        "deepnote_cell_type": "markdown"
      }
    },
    {
      "cell_type": "code",
      "metadata": {
        "cell_id": "00017-b210e409-cf25-41bd-b575-b5ce1d37e84b",
        "deepnote_to_be_reexecuted": false,
        "source_hash": "22ab4308",
        "execution_start": 1615374521326,
        "execution_millis": 9,
        "output_cleared": true,
        "deepnote_cell_type": "code"
      },
      "source": "m = SVC(kernel='linear', C=10).fit(X_ex1, y_ex1)",
      "execution_count": null,
      "outputs": []
    },
    {
      "cell_type": "markdown",
      "source": "Once fit we can visualize the decision boundary and the margins using the `plot_margin` function we defined above.",
      "metadata": {
        "cell_id": "00018-7a5fee6d-925f-46c4-8c71-dde4313af0ad",
        "deepnote_cell_type": "markdown"
      }
    },
    {
      "cell_type": "code",
      "metadata": {
        "cell_id": "00019-98fbeb0b-644d-4df2-9e73-2b5881f68c6c",
        "deepnote_to_be_reexecuted": false,
        "source_hash": "96ee2c07",
        "execution_start": 1615374521353,
        "execution_millis": 398,
        "output_cleared": true,
        "deepnote_cell_type": "code"
      },
      "source": "plot_margin(m, ex1)",
      "execution_count": null,
      "outputs": []
    },
    {
      "cell_type": "markdown",
      "source": "The solid line is the separating hyperplane (line) and the dashed lines are the margins.",
      "metadata": {
        "cell_id": "00020-9a33e276-6179-4872-95f6-5a393373373f",
        "deepnote_cell_type": "markdown"
      }
    },
    {
      "cell_type": "markdown",
      "source": "---\n\n### &diams; Exercise 1\n\nHow many support vectors are there for this model?",
      "metadata": {
        "cell_id": "00021-e486aec4-de21-4b28-8e0a-f1846fb3ab85",
        "deepnote_cell_type": "markdown"
      }
    },
    {
      "cell_type": "markdown",
      "source": "",
      "metadata": {
        "cell_id": "00022-a60b0438-3737-4c45-9313-0b9f39879e19",
        "deepnote_cell_type": "markdown"
      }
    },
    {
      "cell_type": "markdown",
      "source": "---",
      "metadata": {
        "cell_id": "00023-3fcd6730-d1aa-438e-88d2-69c35e3038ce",
        "deepnote_cell_type": "markdown"
      }
    },
    {
      "cell_type": "markdown",
      "source": "We can explore how the penalty value affects this fit by setting up a simple function and interactive widget.",
      "metadata": {
        "cell_id": "00024-4a6be816-6ac0-45bc-98f2-7a06a8fa32c8",
        "deepnote_cell_type": "markdown"
      }
    },
    {
      "cell_type": "code",
      "metadata": {
        "cell_id": "00025-1207e674-052b-4ea9-9436-db5df4ae4df8",
        "deepnote_to_be_reexecuted": false,
        "source_hash": "9311f18c",
        "execution_start": 1615374521787,
        "execution_millis": 310,
        "output_cleared": true,
        "deepnote_cell_type": "code"
      },
      "source": "C = 0.1\nm = SVC(kernel='linear', C=C).fit(X_ex1, y_ex1)\nplot_margin(m, ex1)",
      "execution_count": null,
      "outputs": []
    },
    {
      "cell_type": "markdown",
      "source": "---\n\n### &diams; Exercise 2\n\nHow does the boundary line and the margins change as you change the value of `C`?",
      "metadata": {
        "cell_id": "00026-ff3c2274-8f95-4a74-b9d8-a8fe4764207f",
        "deepnote_cell_type": "markdown"
      }
    },
    {
      "cell_type": "markdown",
      "source": "",
      "metadata": {
        "cell_id": "00027-0e9e5e73-ec8c-4e4c-a34f-816124424ab5",
        "deepnote_cell_type": "markdown"
      }
    },
    {
      "cell_type": "markdown",
      "source": "---\n\n## 2.2 Example 2 - Non-separable data\n\nWe will not complicate our previous example somewhat by adding two additional points from the blue `A` class to our data. This is available in the `ex2.csv` file.",
      "metadata": {
        "cell_id": "00028-4e9f8c2c-af8c-4111-b4ed-074b812d6f02",
        "deepnote_cell_type": "markdown"
      }
    },
    {
      "cell_type": "code",
      "metadata": {
        "cell_id": "00029-b342d462-ea0f-4cf9-8ba1-9b393fe092c8",
        "deepnote_to_be_reexecuted": false,
        "source_hash": "23734a67",
        "execution_start": 1615374522100,
        "execution_millis": 2,
        "output_cleared": true,
        "deepnote_cell_type": "code"
      },
      "source": "ex2 = pd.read_csv(\"ex2.csv\")",
      "execution_count": null,
      "outputs": []
    },
    {
      "cell_type": "code",
      "metadata": {
        "cell_id": "00030-539ba6e7-b8b0-47b3-b122-30ffc85f8387",
        "deepnote_to_be_reexecuted": false,
        "source_hash": "482f9154",
        "execution_start": 1615374522119,
        "execution_millis": 280,
        "output_cleared": true,
        "deepnote_cell_type": "code"
      },
      "source": "sns.scatterplot(x='x', y='y', hue='z', data=ex2, legend=False)\nplt.show()",
      "execution_count": null,
      "outputs": []
    },
    {
      "cell_type": "markdown",
      "source": "---\n\n### &diams; Exercise 3\n\nAre these two classes linearly separable?\n",
      "metadata": {
        "cell_id": "00031-d59c67f3-9097-4890-b912-dcc23ac4faba",
        "deepnote_cell_type": "markdown"
      }
    },
    {
      "cell_type": "markdown",
      "source": "",
      "metadata": {
        "cell_id": "00032-94676f23-56f8-4b55-aa32-0cd0cce16c43",
        "deepnote_cell_type": "markdown"
      }
    },
    {
      "cell_type": "markdown",
      "source": "---",
      "metadata": {
        "cell_id": "00033-d1fd9381-e604-450b-aa20-09b0cf9323fc",
        "deepnote_cell_type": "markdown"
      }
    },
    {
      "cell_type": "markdown",
      "source": "We can again fit a `SVC` model to these data using the same code we used with example 1.",
      "metadata": {
        "cell_id": "00034-cfd3ca45-4a40-4937-a410-f641bb719ee3",
        "deepnote_cell_type": "markdown"
      }
    },
    {
      "cell_type": "code",
      "metadata": {
        "cell_id": "00035-2c29b752-fa3d-4c1f-bb38-7149254c8989",
        "deepnote_to_be_reexecuted": false,
        "source_hash": "f1a84fa7",
        "execution_start": 1615374522396,
        "execution_millis": 7,
        "output_cleared": true,
        "deepnote_cell_type": "code"
      },
      "source": "X_ex2 = ex2.drop('z', axis=1)\ny_ex2 = ex2.z",
      "execution_count": null,
      "outputs": []
    },
    {
      "cell_type": "code",
      "metadata": {
        "cell_id": "00036-d794e5c9-4e63-4a40-8074-09e4561ed8e8",
        "deepnote_to_be_reexecuted": false,
        "source_hash": "12a7eae6",
        "execution_start": 1615374522495,
        "execution_millis": 313,
        "output_cleared": true,
        "deepnote_cell_type": "code"
      },
      "source": "C = 10\nm = SVC(kernel='linear', C=C).fit(X_ex2, y_ex2)\nplot_margin(m, ex2)",
      "execution_count": null,
      "outputs": []
    },
    {
      "cell_type": "markdown",
      "source": "---\n\n### &diams; Exercise 4\n\nHow does the \"fit\" of this model differ compared to the \"fit\" for example 1. *Hint* - make your comparison for equivalent values of `C`.\n",
      "metadata": {
        "cell_id": "00037-b503f8a6-4fd7-4f95-8b91-7aa5e2e42464",
        "deepnote_cell_type": "markdown"
      }
    },
    {
      "cell_type": "markdown",
      "source": "",
      "metadata": {
        "cell_id": "00038-df4ed9bb-a77e-4523-a825-6c83396d047e",
        "deepnote_cell_type": "markdown"
      }
    },
    {
      "cell_type": "markdown",
      "source": "---\n\n### &diams; Exercise 5\n\nHow do the boundary line and margins change as you change the value of `C`?",
      "metadata": {
        "cell_id": "00039-73059ab1-d76e-42bf-8ff2-852a69908561",
        "deepnote_cell_type": "markdown"
      }
    },
    {
      "cell_type": "markdown",
      "source": "",
      "metadata": {
        "cell_id": "00040-61a974dd-0951-4ff7-9c68-6d18000acfe3",
        "deepnote_cell_type": "markdown"
      }
    },
    {
      "cell_type": "markdown",
      "source": "---\n\n",
      "metadata": {
        "cell_id": "00041-6931474e-692a-4244-b754-3b12a0104d9f",
        "deepnote_cell_type": "markdown"
      }
    },
    {
      "cell_type": "markdown",
      "source": "## 2.3 Example 3 - A non-linear kernel\n\nNext we will look at a new data set that would seem to also fall in the non-separable category. ",
      "metadata": {
        "cell_id": "00042-19704caf-6c0b-4dea-86ec-05c3c534a3e5",
        "deepnote_cell_type": "markdown"
      }
    },
    {
      "cell_type": "code",
      "metadata": {
        "cell_id": "00043-69a5a6c1-a085-49b2-8682-c1d9387d2adc",
        "deepnote_to_be_reexecuted": false,
        "source_hash": "f75cd63e",
        "execution_start": 1615374522800,
        "execution_millis": 15,
        "output_cleared": true,
        "deepnote_cell_type": "code"
      },
      "source": "ex3 = pd.read_csv(\"ex3.csv\")\nX_ex3 = ex3.drop('z', axis=1)\ny_ex3 = ex3.z",
      "execution_count": null,
      "outputs": []
    },
    {
      "cell_type": "code",
      "metadata": {
        "cell_id": "00044-9a896b63-0865-42e0-963e-06b87830c399",
        "deepnote_to_be_reexecuted": false,
        "source_hash": "5a38752b",
        "execution_start": 1615374522818,
        "execution_millis": 337,
        "output_cleared": true,
        "deepnote_cell_type": "code"
      },
      "source": "sns.scatterplot(x='x', y='y', hue='z', data=ex3, legend=False)\nplt.show()",
      "execution_count": null,
      "outputs": []
    },
    {
      "cell_type": "markdown",
      "source": "Clearly for these data there is no possible separating line that could come close to classifying these points. However, due to the kernel trick it is possible (and efficient) to project our data into a higher dimensional space where it may be possible to then define a separating hyperplane. For these data we will consider a simple polynomial kernel with degree 2. This kernel is defined as\n$$ K(x,x') = (\\gamma \\langle x, x' \\rangle + r)^d $$\nwhere $\\gamma$ is a scaling parameter, $d$ is the degree, and $r$ related to the intercept and is called `coef0` by sklearn. More details on the various kernels that can be used with the `SVC` model are available [here](https://scikit-learn.org/stable/modules/svm.html#svm-kernels).\n\nThe effect of using such a kernel is immediately obvious, as you can see in the interactive figure below.",
      "metadata": {
        "cell_id": "00045-b412503a-3d2d-41a1-aa97-746b0a6d2835",
        "deepnote_cell_type": "markdown"
      }
    },
    {
      "cell_type": "code",
      "metadata": {
        "cell_id": "00046-53731f6b-a8ea-4d47-b92e-8fbcb7f68600",
        "deepnote_to_be_reexecuted": false,
        "source_hash": "8c98d6db",
        "execution_start": 1615374523161,
        "execution_millis": 329,
        "output_cleared": true,
        "deepnote_cell_type": "code"
      },
      "source": "C = 10          # [1,2,5,7,10,20,50,100]\nkernel = 'poly' # ['poly', 'linear']\n\nm = SVC(kernel=kernel, degree=2, C=C, gamma='scale').fit(X_ex3, y_ex3)\nplot_margin(m, ex3)",
      "execution_count": null,
      "outputs": []
    },
    {
      "cell_type": "markdown",
      "source": "---\n\n### &diams; Exercise 6\n\nCompare the fit of the model using the polynomial and linear kernel. Describe the shape of the boundaries and the margins.\n",
      "metadata": {
        "cell_id": "00047-ccad9226-dbef-439a-bd66-8befeca8620e",
        "deepnote_cell_type": "markdown"
      }
    },
    {
      "cell_type": "markdown",
      "source": "",
      "metadata": {
        "cell_id": "00048-7e902576-f38d-4713-9603-cc1bfe01e0a8",
        "deepnote_cell_type": "markdown"
      }
    },
    {
      "cell_type": "markdown",
      "source": "---\n\n### &diams; Exercise 7\n\nHow do the boundary line and margins change as you change the value of `C`?",
      "metadata": {
        "cell_id": "00049-28871625-ca4f-4217-854a-9c7acd19be75",
        "deepnote_cell_type": "markdown"
      }
    },
    {
      "cell_type": "markdown",
      "source": "",
      "metadata": {
        "cell_id": "00050-507af8e3-858b-4cd8-ac36-762b49a37040",
        "deepnote_cell_type": "markdown"
      }
    },
    {
      "cell_type": "markdown",
      "source": "---\n\n",
      "metadata": {
        "cell_id": "00051-0d58cbe1-0399-4489-87f8-0465fb7c0815",
        "deepnote_cell_type": "markdown"
      }
    },
    {
      "cell_type": "markdown",
      "source": "To better understand what is happening when we use a kernel with a SVM we can think about the kernel as projecting our data into a higher dimensional space - with this particular kernel we can think of it as adding a third dimension, proportional to $x^2+y^2$ to our data and then asking for the SVM model to find a separating *plane* in this 3-d space. We can crudely visualize this by creating this new dimension and plotting our data as a 3d scatter plot.",
      "metadata": {
        "cell_id": "00052-7e761ac4-ebcc-460f-81c6-e5f26f9cd51d",
        "deepnote_cell_type": "markdown"
      }
    },
    {
      "cell_type": "code",
      "metadata": {
        "cell_id": "00053-4c822aba-e7d2-4ca1-b06e-91add54ae0ba",
        "deepnote_to_be_reexecuted": false,
        "source_hash": "5ccef8d7",
        "execution_start": 1615374523483,
        "execution_millis": 8,
        "output_cleared": true,
        "deepnote_cell_type": "code"
      },
      "source": "def plot_proj(elev=10, azim=45):\n    colors = {'A':'#D37042', 'B':'#3D5DA1'}\n    \n    fig = plt.figure(figsize=(8, 8))\n    ax = fig.add_subplot(111, projection='3d')\n    ax.view_init(elev=elev, azim=azim)\n    ax.scatter(ex3.x, ex3.y, (ex3.x**2 + ex3.y**2), c=ex3.z.apply(lambda x: colors[x]))\n    \n    ax.set_xlabel('x')\n    ax.set_ylabel('y ')\n    ax.set_zlabel('z ')\n    \n    plt.show()",
      "execution_count": null,
      "outputs": []
    },
    {
      "cell_type": "markdown",
      "source": "You can adjust the values of `elev` and `azim` to adjust the \"camera\" position for the plot to get a better view of ",
      "metadata": {
        "cell_id": "00054-ec5521d0-9b84-4763-84c6-39cbbfb8abd4",
        "deepnote_cell_type": "markdown"
      }
    },
    {
      "cell_type": "code",
      "metadata": {
        "cell_id": "00055-9ed3600b-7a11-48dd-8d42-a9c19b0cfc09",
        "deepnote_to_be_reexecuted": false,
        "source_hash": "e2edeef8",
        "execution_start": 1615374523495,
        "execution_millis": 411,
        "output_cleared": true,
        "deepnote_cell_type": "code"
      },
      "source": "plot_proj(elev = 10, azim = 45)",
      "execution_count": null,
      "outputs": []
    },
    {
      "cell_type": "markdown",
      "source": "---\n\n### &diams; Exercise 8\n\nAs you adjust your view of the data via the elevation and azimuth, imagine a plane that could be used to separate these data into the two classes. If we were to project that plane back down to just `x` and `y`, what would its shape be?",
      "metadata": {
        "cell_id": "00056-7a491872-63b1-4722-b553-8337514ffe63",
        "deepnote_cell_type": "markdown"
      }
    },
    {
      "cell_type": "markdown",
      "source": "",
      "metadata": {
        "cell_id": "00057-1989cbe3-793c-435b-9271-2734fce99c88",
        "deepnote_cell_type": "markdown"
      }
    },
    {
      "cell_type": "markdown",
      "source": "---\n\n",
      "metadata": {
        "cell_id": "00058-0738c393-3604-45ac-b303-e85c581735f1",
        "deepnote_cell_type": "markdown"
      }
    },
    {
      "cell_type": "markdown",
      "source": "## 2.4 Example 4 - Other Kernels\n\nNext we will consider an even more complicated separation task where one class is split into two separate clusters by the second class. The data ara available as `ex4.csv`.",
      "metadata": {
        "cell_id": "00059-bcf52240-39c6-42da-ad1e-7fffd4106e3c",
        "deepnote_cell_type": "markdown"
      }
    },
    {
      "cell_type": "code",
      "metadata": {
        "cell_id": "00060-a4e82830-bd58-4fe0-8a46-a63926ed8803",
        "deepnote_to_be_reexecuted": false,
        "source_hash": "cb671cd",
        "execution_start": 1615374523869,
        "execution_millis": 17,
        "output_cleared": true,
        "deepnote_cell_type": "code"
      },
      "source": "ex4 = pd.read_csv(\"ex4.csv\")\nX_ex4 = ex4.drop('z', axis=1)\ny_ex4 = ex4.z",
      "execution_count": null,
      "outputs": []
    },
    {
      "cell_type": "code",
      "metadata": {
        "cell_id": "00061-e2bc1cc8-7dd3-415b-98f2-1a6fc049ab04",
        "deepnote_to_be_reexecuted": false,
        "source_hash": "ec1ae20f",
        "execution_start": 1615374523886,
        "execution_millis": 354,
        "output_cleared": true,
        "deepnote_cell_type": "code"
      },
      "source": "plt.figure(figsize=(8, 8))\nsns.scatterplot(x='x', y='y', hue='z', data=ex4, legend=False)\nplt.show()",
      "execution_count": null,
      "outputs": []
    },
    {
      "cell_type": "markdown",
      "source": "Below we set up a similar interactive tool for experimenting with different penalties and kernel functions for these data. Note that the degree value is only used by polynomial kernel and is ignore by the linear and rbf kernels.",
      "metadata": {
        "cell_id": "00062-68131606-e485-415e-9944-23fd1fd0468f",
        "deepnote_cell_type": "markdown"
      }
    },
    {
      "cell_type": "code",
      "metadata": {
        "cell_id": "00063-585d0aaf-f7ec-4289-a630-4755c636edb2",
        "deepnote_to_be_reexecuted": false,
        "source_hash": "8e3a7b64",
        "execution_start": 1615374524238,
        "execution_millis": 338,
        "output_cleared": true,
        "deepnote_cell_type": "code"
      },
      "source": "C = 10      # [1,5,10,50,100],\ndegree = 2  # [2,3,4],\nkernel = 'poly' # ['poly', 'rbf', 'linear'])\n\nplt.figure(figsize=(8, 8))\nm = SVC(kernel=kernel, degree=degree, C=C, gamma='scale').fit(X_ex4, y_ex4)\nplot_margin(m, ex4)",
      "execution_count": null,
      "outputs": []
    },
    {
      "cell_type": "markdown",
      "source": "---\n\n### &diams; Exercise 9\n\nWhat combination of parameters appears to produce the best fit? Is it easy to tell this by visual inspection alone?",
      "metadata": {
        "cell_id": "00064-e02318fe-ef6e-4c81-8d04-dff72d5ab463",
        "deepnote_cell_type": "markdown"
      }
    },
    {
      "cell_type": "markdown",
      "source": "",
      "metadata": {
        "cell_id": "00065-bb6c45c9-9b79-499b-b03f-22acbd5d1d87",
        "deepnote_cell_type": "markdown"
      }
    },
    {
      "cell_type": "markdown",
      "source": "---\n\n### &diams; Exercise 10\n\nHow do the support vectors change as the kernel, penalty, and degree are changed?",
      "metadata": {
        "cell_id": "00066-339a3b4e-f7c5-4d4b-9505-ef81205ef37c",
        "deepnote_cell_type": "markdown"
      }
    },
    {
      "cell_type": "markdown",
      "source": "",
      "metadata": {
        "cell_id": "00067-1d5da170-f5fd-432c-a0f6-1de67a84aef8",
        "deepnote_cell_type": "markdown"
      }
    },
    {
      "cell_type": "markdown",
      "source": "---\n\n## 2.5 Model Assessment\n\nSo far we have only inspected the various models by eye to get a sense of how well they fit our data. Since we are undertaking a classification task here we would like to be able to leverage the metrics and scoring tools we have already learned around logistic regression and related tools. The issue is that while we could generate a simple confusion matrix for our models' predictions this is somewhat limiting.\n\nLet us consider the `rbf` model for example 4, we can fit this model and then explore what options we have.",
      "metadata": {
        "cell_id": "00068-f4607c5a-005c-4b55-900c-a2dada3307e7",
        "deepnote_cell_type": "markdown"
      }
    },
    {
      "cell_type": "code",
      "metadata": {
        "cell_id": "00069-5c04ad92-72ac-4a88-9adf-0b63ba6e3b39",
        "deepnote_to_be_reexecuted": false,
        "source_hash": "1641811c",
        "execution_start": 1615374524573,
        "execution_millis": 17,
        "output_cleared": true,
        "deepnote_cell_type": "code"
      },
      "source": "m = SVC(kernel='rbf', C=1, gamma='scale').fit(X_ex4, y_ex4)",
      "execution_count": null,
      "outputs": []
    },
    {
      "cell_type": "markdown",
      "source": "From this model we can report the accuracy, which is defined as\n$$ \\text{Accuracy} = \\frac{\\text{TP}+\\text{TN}}{\\text{TP}+\\text{FP}+\\text{TN}+\\text{FN}} $$\nusing the `score` method. Similarly, if we want the confusion matrix or any other metric that can be calculated using the appropriate function and the `predict` method.",
      "metadata": {
        "cell_id": "00070-7023cc97-8582-4004-9e09-7dedbdfdfbbb",
        "deepnote_cell_type": "markdown"
      }
    },
    {
      "cell_type": "code",
      "metadata": {
        "cell_id": "00071-ad4dbdc0-c14e-4de3-a387-c8de03738289",
        "deepnote_to_be_reexecuted": false,
        "source_hash": "dda444b8",
        "execution_start": 1615374524594,
        "execution_millis": 81,
        "output_cleared": true,
        "deepnote_cell_type": "code"
      },
      "source": "m.score(X_ex4, y_ex4)",
      "execution_count": null,
      "outputs": []
    },
    {
      "cell_type": "code",
      "metadata": {
        "cell_id": "00072-b22c0d33-039e-4d03-8688-ed10c2dac4f7",
        "deepnote_to_be_reexecuted": false,
        "source_hash": "915638f6",
        "execution_start": 1615374524645,
        "execution_millis": 32,
        "output_cleared": true,
        "deepnote_cell_type": "code"
      },
      "source": "sklearn.metrics.confusion_matrix(y_ex4, m.predict(X_ex4))",
      "execution_count": null,
      "outputs": []
    },
    {
      "cell_type": "markdown",
      "source": "By default, SVM models do not support the construction of anything like a ROC curve since the predictions are not probabilistic - i.e. labels are assigned based on which side of the separator a point falls. As such, `SVC` models do not implement `predict_proba` by default.",
      "metadata": {
        "cell_id": "00073-f6e0b46b-651d-4bd8-a131-0a0e8e7a7c2e",
        "deepnote_cell_type": "markdown"
      }
    },
    {
      "cell_type": "code",
      "metadata": {
        "cell_id": "00074-d660b884-abcb-486b-9f3a-7b95e4063102",
        "deepnote_to_be_reexecuted": false,
        "source_hash": "581e1e52",
        "execution_start": 1615374524671,
        "execution_millis": 269,
        "output_cleared": true,
        "deepnote_cell_type": "code"
      },
      "source": "m.predict_proba(X_ex4)",
      "execution_count": null,
      "outputs": []
    },
    {
      "cell_type": "markdown",
      "source": "As the error message suggests, we can obtain probabilistic predictions for each observation by setting `probability=True` before fitting our model. Details on what is involved in this process are provided in the sklearn user guide [here](https://scikit-learn.org/stable/modules/svm.html#scores-probabilities). Generally, if probabilistic predictions are needed then an alternative modelling method is likely to be superior.",
      "metadata": {
        "cell_id": "00075-43b400e0-7fd8-4fef-8d96-83674ea33205",
        "deepnote_cell_type": "markdown"
      }
    },
    {
      "cell_type": "markdown",
      "source": "With the available scoing metrics we can make use of the usual cross valiation tools such as `cross_val_score` which can be useful for the purpose of comparing different models,",
      "metadata": {
        "cell_id": "00076-9949e0b2-a5c7-4fa2-bfba-6775f7c60d5e",
        "deepnote_cell_type": "markdown"
      }
    },
    {
      "cell_type": "code",
      "metadata": {
        "cell_id": "00077-3c854a7e-21f6-406f-9f07-ce253b80ff0f",
        "deepnote_to_be_reexecuted": false,
        "source_hash": "73157cee",
        "execution_start": 1615374619665,
        "execution_millis": 8,
        "output_cleared": true,
        "deepnote_cell_type": "code"
      },
      "source": "rbf = sklearn.model_selection.cross_val_score(\n    SVC(kernel='rbf', C=1, gamma='scale'), \n    X_ex4, y_ex4, \n    cv=KFold(5, shuffle=True, random_state=1234)\n)\n\nprint(rbf)\nprint(rbf.mean())",
      "execution_count": null,
      "outputs": []
    },
    {
      "cell_type": "code",
      "metadata": {
        "cell_id": "00078-1000c1c0-f5b8-4359-aea2-9194ff90c923",
        "deepnote_to_be_reexecuted": false,
        "source_hash": "f18ed71",
        "execution_millis": 23,
        "execution_start": 1615374666197,
        "output_cleared": true,
        "deepnote_cell_type": "code"
      },
      "source": "poly = sklearn.model_selection.cross_val_score(\n    SVC(kernel='poly', degree=2, C=1, gamma='scale'), \n    X_ex4, y_ex4, \n    cv=KFold(5, shuffle=True, random_state=1234)\n)\n\nprint(poly)\nprint(poly.mean())",
      "execution_count": null,
      "outputs": []
    },
    {
      "cell_type": "markdown",
      "source": "Which indicates that the rbf appears to slightly outperform the degree 2 polynomial, but only for `C=1`. ",
      "metadata": {
        "cell_id": "00080-115e9526-5ee6-4e17-b09f-818178eb58b6",
        "deepnote_cell_type": "markdown"
      }
    },
    {
      "cell_type": "markdown",
      "source": "---\n\n### &diams; Exercise 11\n\nIf you adjust `C` are you able to find a better performing version of either the `rbf` or `poly` SVM models?",
      "metadata": {
        "cell_id": "00081-f87602e4-6993-46a6-964b-1e6d5994fc34",
        "deepnote_cell_type": "markdown"
      }
    },
    {
      "cell_type": "code",
      "metadata": {
        "cell_id": "00082-c409a6d2-4777-4f36-a3b4-2d00424cd110",
        "deepnote_to_be_reexecuted": true,
        "source_hash": "b623e53d",
        "output_cleared": true,
        "deepnote_cell_type": "code"
      },
      "source": "",
      "execution_count": null,
      "outputs": []
    },
    {
      "cell_type": "markdown",
      "source": "",
      "metadata": {
        "cell_id": "00083-55c49318-d71c-4807-abd1-b147230546d1",
        "deepnote_cell_type": "markdown"
      }
    },
    {
      "cell_type": "markdown",
      "source": "---\n\n### &diams; Exercise 12\n\nConstruct a full cross validated grid search over the parameter values: `C = [1,5,10,50,100]`,`degree = [2,3,4]`, and `kernel = ['poly', 'rbf', 'linear']`. Which SVM model performs best? Use `plot_margin` to show the resulting seperator and support vectors.",
      "metadata": {
        "cell_id": "00085-2c74c5ce-ee96-462e-a0d5-82a4f2cf52f8",
        "deepnote_cell_type": "markdown"
      }
    },
    {
      "cell_type": "code",
      "metadata": {
        "cell_id": "00086-0a347a6a-18e7-47de-9bd0-1f0866ccc320",
        "deepnote_to_be_reexecuted": true,
        "source_hash": "b623e53d",
        "output_cleared": true,
        "deepnote_cell_type": "code"
      },
      "source": "",
      "execution_count": null,
      "outputs": []
    },
    {
      "cell_type": "markdown",
      "source": "---\n\n# 2.6. Additional Reading\n\nThe sklearn [user guide for SVM models](https://scikit-learn.org/stable/modules/svm.html) is particularly good compared to some of the others we have see so far. I suggets browsing through it as a good overview of the modeling method in addition to what has been covered in lecture. Specifically, I would also like to highly recommend section [1.4.5 Tips on Practical Use](https://scikit-learn.org/stable/modules/svm.html#tips-on-practical-use) has excellent guidance on usage of these models.\n",
      "metadata": {
        "cell_id": "00087-7833b137-9272-4bd8-8a0e-19c72c74e1d6",
        "deepnote_cell_type": "markdown"
      }
    },
    {
      "cell_type": "markdown",
      "source": "---\n\n## 3. Competing the worksheet\n\nAt this point you have hopefully been able to complete all the preceeding exercises. Now \nis a good time to check the reproducibility of this document by restarting the notebook's\nkernel and rerunning all cells in order.\n\nOnce that is done and you are happy with everything, you can then run the following cell \nto generate your PDF and turn it in on gradescope under the `mlp-week08` assignment.",
      "metadata": {
        "tags": [],
        "cell_id": "00089-b7fbe325-fd04-4c69-9109-bcb41a4e0a94",
        "deepnote_cell_type": "markdown"
      }
    },
    {
      "cell_type": "code",
      "metadata": {
        "deepnote_to_be_reexecuted": true,
        "execution_millis": 10531,
        "output_cleared": true,
        "source_hash": "51faf1fc",
        "tags": [],
        "cell_id": "00090-43a23ae5-553d-467a-bbff-e48ba0ef795a",
        "deepnote_cell_type": "code"
      },
      "source": "!jupyter nbconvert --to pdf mlp-week08.ipynb",
      "execution_count": null,
      "outputs": []
    },
    {
      "cell_type": "markdown",
      "source": "<a style='text-decoration:none;line-height:16px;display:flex;color:#5B5B62;padding:10px;justify-content:end;' href='https://deepnote.com?utm_source=created-in-deepnote-cell&projectId=5c97584f-b44f-491f-8a50-2238ebac3aea' target=\"_blank\">\n<img style='display:inline;max-height:16px;margin:0px;margin-right:7.5px;' src='data:image/svg+xml;base64,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' > </img>\nCreated in <span style='font-weight:600;margin-left:4px;'>Deepnote</span></a>",
      "metadata": {
        "tags": [],
        "created_in_deepnote_cell": true,
        "deepnote_cell_type": "markdown"
      }
    }
  ],
  "nbformat": 4,
  "nbformat_minor": 4,
  "metadata": {
    "kernelspec": {
      "display_name": "Python 3",
      "language": "python",
      "name": "python3"
    },
    "language_info": {
      "codemirror_mode": {
        "name": "ipython",
        "version": 3
      },
      "file_extension": ".py",
      "mimetype": "text/x-python",
      "name": "python",
      "nbconvert_exporter": "python",
      "pygments_lexer": "ipython3",
      "version": "3.9.2"
    },
    "deepnote_notebook_id": "94c743de-4779-4be5-9ce0-4f3237c82a28",
    "deepnote": {},
    "deepnote_execution_queue": []
  }
}